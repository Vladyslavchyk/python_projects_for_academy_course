{
  "nbformat": 4,
  "nbformat_minor": 0,
  "metadata": {
    "colab": {
      "provenance": []
    },
    "kernelspec": {
      "name": "python3",
      "display_name": "Python 3"
    },
    "language_info": {
      "name": "python"
    }
  },
  "cells": [
    {
      "cell_type": "markdown",
      "source": [
        "# I. OOP"
      ],
      "metadata": {
        "id": "5qV_sehzFCTp"
      }
    },
    {
      "cell_type": "markdown",
      "source": [
        "1. (6б). Створіть клас Animal, додайте три атрибути, один з яких має значення за замовчуванням та два методи на свій розсуд."
      ],
      "metadata": {
        "id": "tx_U_hOALyfg"
      }
    },
    {
      "cell_type": "code",
      "source": [
        "class Animal:\n",
        "    def __init__(self, species=\"\", colour=\"\"):\n",
        "        self.name = \"Fluffy\"\n",
        "        self.species = species\n",
        "        self.colour = colour\n",
        "\n",
        "    def info(self):\n",
        "        return f\"{self.name} is a {self.colour} {self.species}.\"\n",
        "\n",
        "\n",
        "animal1 = Animal(\"cat\", \"white\")\n",
        "print(animal1.info())"
      ],
      "metadata": {
        "id": "-Vf895KaL88N",
        "colab": {
          "base_uri": "https://localhost:8080/"
        },
        "outputId": "ab62507a-f965-4f2b-b5fd-a22219af1a36"
      },
      "execution_count": 88,
      "outputs": [
        {
          "output_type": "stream",
          "name": "stdout",
          "text": [
            "Fluffy is a white cat.\n"
          ]
        }
      ]
    },
    {
      "cell_type": "markdown",
      "source": [
        "2. (2б). Створіть два обʼєкти цього класу, де один з обʼєктів створюється із дефолтним значенням атрибуту. На одному обʼєкті отримайте значення його атрибуту, а на іншому викличте один з його методів."
      ],
      "metadata": {
        "id": "X_UlOMB0L93w"
      }
    },
    {
      "cell_type": "code",
      "source": [
        "class Animal:\n",
        "    def __init__(self, species=\"\", colour=\"\"):\n",
        "        self.name = \"Fluffy\"\n",
        "        self.species = species\n",
        "        self.colour = colour\n",
        "\n",
        "    def fluffy_is(self):\n",
        "        return f\"{self.name} is {self.species}.\"\n",
        "\n",
        "animal1 = Animal(species=\"cat\", colour=\"white\")\n",
        "print(f\"Animal Name: {animal1.name}\")\n",
        "print(animal1.fluffy_is())"
      ],
      "metadata": {
        "id": "7gBu0ESOMCpG",
        "colab": {
          "base_uri": "https://localhost:8080/"
        },
        "outputId": "9dd4dc28-b322-4b33-ea89-f13fa6878b68"
      },
      "execution_count": 89,
      "outputs": [
        {
          "output_type": "stream",
          "name": "stdout",
          "text": [
            "Animal Name: Fluffy\n",
            "Fluffy is cat.\n"
          ]
        }
      ]
    },
    {
      "cell_type": "markdown",
      "source": [
        "3. (5б). Створіть клас, де атрибути мають різні рівні доступу. Спробуйте отримати їхні значення та опишіть результати."
      ],
      "metadata": {
        "id": "HoqSCZt1MHn5"
      }
    },
    {
      "cell_type": "code",
      "source": [
        "class MyClass:\n",
        "    def __init__(self):\n",
        "        self.attribute1 = \"1\"\n",
        "        self._attribute2 = \"2\"\n",
        "        self.__attribute3 = \"3\"\n",
        "\n",
        "my_object = MyClass()\n",
        "\n",
        "print(my_object.attribute1)\n",
        "print(my_object._attribute2)\n",
        "print(my_object._MyClass__attribute3)\n",
        "# print(my_object.__attribute3) - error"
      ],
      "metadata": {
        "id": "r9b3vJxBMSPV",
        "colab": {
          "base_uri": "https://localhost:8080/"
        },
        "outputId": "cd0bca92-9a39-404d-9065-57f5d677a2ca"
      },
      "execution_count": 90,
      "outputs": [
        {
          "output_type": "stream",
          "name": "stdout",
          "text": [
            "1\n",
            "2\n",
            "3\n"
          ]
        }
      ]
    },
    {
      "cell_type": "markdown",
      "source": [
        "4. (7б). Як ви розумієте термін self? Для чого використовується метод __init __?"
      ],
      "metadata": {
        "id": "5op2m2vgMSkZ"
      }
    },
    {
      "cell_type": "markdown",
      "source": [
        "Термін self в Python вказує на екземпляр класу, на якому викликається метод. По суті, self - це змінна, яка вказує на сам об'єкт (екземпляр класу), з яким працює метод і дозволяє отримати доступ до атрибутів та інших методів об'єкта всередині класу.\n",
        "\n",
        "__ __init__ __ - це скорочення від слова iniatilization, тобто основна його задача ініацілізувати атрибути об'єкта та задавати їм початкові значення.  __ __init__ __ викликається автоматично при створенні нового об'єкта класу."
      ],
      "metadata": {
        "id": "DyiPqNRvMasx"
      }
    },
    {
      "cell_type": "markdown",
      "source": [
        "5. (9б). Створіть клас Фігура без атрибутів, з методом get_area для отримання площі фігури, що повертає 0 та __add __, який приймає self та other в якості аргументів, а повертає суму площин фігур self та other."
      ],
      "metadata": {
        "id": "-6X8EGfjMd2y"
      }
    },
    {
      "cell_type": "code",
      "source": [
        "class Figure:\n",
        "    def get_area(self):\n",
        "        return 0\n",
        "\n",
        "    def __add__(self, other):\n",
        "        if isinstance(other, Figure):\n",
        "            return self.get_area() + other.get_area()\n",
        "        else:\n",
        "            raise ValueError(\"Error\")\n",
        "\n",
        "figure1 = Figure()\n",
        "figure2 = Figure()\n",
        "area1 = figure1.get_area()\n",
        "area2 = figure2.get_area()\n",
        "sum_of_areas = figure1 + figure2\n",
        "print(\"Figure 1:\", area1)\n",
        "print(\"Figure 2:\", area2)\n",
        "print(\"Sum of Areas:\", sum_of_areas)"
      ],
      "metadata": {
        "id": "4rvO_wYUMaEr",
        "colab": {
          "base_uri": "https://localhost:8080/"
        },
        "outputId": "e62b52ae-b00f-4335-aea3-6b13378bff0b"
      },
      "execution_count": 91,
      "outputs": [
        {
          "output_type": "stream",
          "name": "stdout",
          "text": [
            "Figure 1: 0\n",
            "Figure 2: 0\n",
            "Sum of Areas: 0\n"
          ]
        }
      ]
    },
    {
      "cell_type": "markdown",
      "source": [
        "6. (11б). Створіть 2 дочірніх класи від Фігури: Трикутник та Коло, які мають атрибути, необхідні для розрахунку площин. Визначте метод get_area в кожному з них так, щоби вони розраховували площу в залежності від формули для кожного типу фігури. Створіть обʼєкт класу Трикутник та обʼєкт класу Коло. Виконайте операцію суми за допомогою оператора + між ними."
      ],
      "metadata": {
        "id": "SFcKnnv5Mo_z"
      }
    },
    {
      "cell_type": "code",
      "source": [
        "class Figure:\n",
        "    def get_area(self):\n",
        "        pass\n",
        "\n",
        "class Triangle(Figure):\n",
        "    def __init__(self, base, height):\n",
        "        self.base = base\n",
        "        self.height = height\n",
        "\n",
        "    def get_area(self):\n",
        "        return 0.5 * self.base * self.height\n",
        "\n",
        "class Circle(Figure):\n",
        "    def __init__(self, radius):\n",
        "        self.radius = radius\n",
        "\n",
        "    def get_area(self):\n",
        "        return 3.1415926 * self.radius**2\n",
        "\n",
        "triangle = Triangle(base=3, height=5)\n",
        "circle = Circle(radius=6)\n",
        "\n",
        "triangle_area = triangle.get_area()\n",
        "circle_area = circle.get_area()\n",
        "\n",
        "print(f\"Площа трикутника: {triangle_area}\")\n",
        "print(f\"Площа кола: {circle_area}\")\n",
        "\n",
        "sum_area = triangle_area + circle_area\n",
        "print(f\"Сумарна площа: {sum_area}\")"
      ],
      "metadata": {
        "id": "H3GVNr69Muf3",
        "colab": {
          "base_uri": "https://localhost:8080/"
        },
        "outputId": "8df9f8ff-9ac4-4012-b6fe-2d32f37feeb6"
      },
      "execution_count": 92,
      "outputs": [
        {
          "output_type": "stream",
          "name": "stdout",
          "text": [
            "Площа трикутника: 7.5\n",
            "Площа кола: 113.0973336\n",
            "Сумарна площа: 120.5973336\n"
          ]
        }
      ]
    },
    {
      "cell_type": "markdown",
      "source": [
        "7. (3б). Продемонструйте різницю між isinstance та issubclass."
      ],
      "metadata": {
        "id": "HCvR206YMvLK"
      }
    },
    {
      "cell_type": "markdown",
      "source": [
        "Обидві функції дозволяють перевіряти відносини між класами. isinstance використовується для визначення того, чи є об'єкт екземпляром певного класу, а issubclass використовується для визначення того, чи є один клас підкласом іншого класу."
      ],
      "metadata": {
        "id": "QTrTVGCrAYaa"
      }
    },
    {
      "cell_type": "code",
      "source": [
        "class Animal:\n",
        "    pass\n",
        "\n",
        "class Cat(Animal):\n",
        "    pass\n",
        "\n",
        "obj = Cat()\n",
        "\n",
        "print(isinstance(obj, Cat))\n",
        "print(isinstance(obj, int))\n",
        "\n",
        "print(issubclass(Cat, Animal))\n",
        "print(issubclass(Animal, Cat))"
      ],
      "metadata": {
        "id": "L_V1bBvDM0GN",
        "colab": {
          "base_uri": "https://localhost:8080/"
        },
        "outputId": "ef82b9a9-752f-43c5-cb38-8379b6a59a07"
      },
      "execution_count": 93,
      "outputs": [
        {
          "output_type": "stream",
          "name": "stdout",
          "text": [
            "True\n",
            "False\n",
            "True\n",
            "False\n"
          ]
        }
      ]
    },
    {
      "cell_type": "markdown",
      "source": [
        "\n",
        "\n",
        "```\n",
        "`# This is formatted as code`\n",
        "```\n",
        "\n",
        "8. (13б). Створіть клас BankAccount з приватними атрибутами balance та account_number. Реалізуйте методи поповнення та зняття коштів, забезпечивши належну інкапсуляцію. Підказка: використовуйте декоратори property та setter."
      ],
      "metadata": {
        "id": "jjsaBZ-iM0Qq"
      }
    },
    {
      "cell_type": "code",
      "source": [
        "class BankAccount:\n",
        "    def __init__(self, initial_balance=0, account_number=None):\n",
        "        self._balance = initial_balance\n",
        "        self._account_number = account_number\n",
        "\n",
        "    @property\n",
        "    def balance(self):\n",
        "        return self._balance\n",
        "\n",
        "    @property\n",
        "    def account_number(self):\n",
        "        return self._account_number\n",
        "\n",
        "    @property\n",
        "    def get_balance(self):\n",
        "        return f\"Початковий баланс на рахунку: {self._balance}\"\n",
        "\n",
        "    @property\n",
        "    def get_account_info(self):\n",
        "        return f\"Номер рахунку: {self._account_number}, Поточний баланс на рахунку: {self._balance}\"\n",
        "\n",
        "\n",
        "    def deposit(self, amount):\n",
        "        self._balance += amount\n",
        "        return f\"Поповнення рахунку пройшло успішно. Поточний баланс на рахунку: {self._balance}\"\n",
        "\n",
        "    def withdraw(self, amount):\n",
        "        if amount > self._balance:\n",
        "            return \"Недостатньо коштів на рахунку\"\n",
        "        self._balance -= amount\n",
        "        return f\"Зняття коштів з рахунку пройшло успішно. Поточний баланс на рахунку: {self._balance}\"\n",
        "\n",
        "account = BankAccount(initial_balance=100, account_number=\"1234\")\n",
        "\n",
        "print(account.get_balance)\n",
        "print(account.deposit(2828))\n",
        "print(account.withdraw(28))\n",
        "print(account.get_account_info)"
      ],
      "metadata": {
        "id": "xCvZ7lh8M7YA",
        "colab": {
          "base_uri": "https://localhost:8080/"
        },
        "outputId": "ed3ab268-4510-4e54-ecde-6b7a318ab6f8"
      },
      "execution_count": 94,
      "outputs": [
        {
          "output_type": "stream",
          "name": "stdout",
          "text": [
            "Початковий баланс на рахунку: 100\n",
            "Поповнення рахунку пройшло успішно. Поточний баланс на рахунку: 2928\n",
            "Зняття коштів з рахунку пройшло успішно. Поточний баланс на рахунку: 2900\n",
            "Номер рахунку: 1234, Поточний баланс на рахунку: 2900\n"
          ]
        }
      ]
    },
    {
      "cell_type": "markdown",
      "source": [
        "9. (11б). Створіть клас Library, який містить список об'єктів типу Book. Реалізуйте методи для додавання книги, видалення книги та відображення списку книг."
      ],
      "metadata": {
        "id": "tIzL2SJTM8ft"
      }
    },
    {
      "cell_type": "code",
      "source": [
        "class Book:\n",
        "    def __init__(self, title):\n",
        "        self.title = title\n",
        "\n",
        "class Library:\n",
        "    def __init__(self):\n",
        "        self.books = []\n",
        "\n",
        "    def add_book(self, book):\n",
        "        self.books.append(book)\n",
        "        print(f\"Книга під назвою {book.title} була додана до бібліотеки.\")\n",
        "\n",
        "    def remove_book(self, title):\n",
        "        for book in self.books:\n",
        "            if book.title == title:\n",
        "                self.books.remove(book)\n",
        "                print(f\"Книга під назвою '{title}' була видалена з бібліотеки.\")\n",
        "                break\n",
        "        else:\n",
        "            print(f\"Книга під назвою '{title}' не знайдена.\")\n",
        "\n",
        "    def display_books(self):\n",
        "            print(\"Список книг у бібліотеці:\")\n",
        "            for book in self.books:\n",
        "                print(f\"{book.title}\")\n",
        "\n",
        "library = Library()\n",
        "\n",
        "book1 = Book(\"Thinking Fast and Slow\")\n",
        "book2 = Book(\"Industrial Society and its Future\")\n",
        "book3 = Book(\"1984\")\n",
        "\n",
        "library.add_book(book1)\n",
        "library.add_book(book2)\n",
        "library.add_book(book3)\n",
        "library.display_books()\n",
        "library.remove_book(\"1984\")\n",
        "library.display_books()"
      ],
      "metadata": {
        "id": "HWxfJKLtNAUZ",
        "colab": {
          "base_uri": "https://localhost:8080/"
        },
        "outputId": "0f4494cd-4b0c-4b4e-eb07-27d48a8af594"
      },
      "execution_count": 95,
      "outputs": [
        {
          "output_type": "stream",
          "name": "stdout",
          "text": [
            "Книга під назвою Thinking Fast and Slow була додана до бібліотеки.\n",
            "Книга під назвою Industrial Society and its Future була додана до бібліотеки.\n",
            "Книга під назвою 1984 була додана до бібліотеки.\n",
            "Список книг у бібліотеці:\n",
            "Thinking Fast and Slow\n",
            "Industrial Society and its Future\n",
            "1984\n",
            "Книга під назвою '1984' була видалена з бібліотеки.\n",
            "Список книг у бібліотеці:\n",
            "Thinking Fast and Slow\n",
            "Industrial Society and its Future\n"
          ]
        }
      ]
    },
    {
      "cell_type": "markdown",
      "source": [
        "10. (13б). Створіть клас Person з атрибутами name та age. Створіть ще один клас Employee з такими атрибутами, як department та salary. Створіть клас Manager, який успадковує обидва класи Person та Employee. Продемонструйте використання множинної спадковості, створивши обʼєкт класу Manager та отримавши mro для цього класу."
      ],
      "metadata": {
        "id": "lmV8pAwwNIqu"
      }
    },
    {
      "cell_type": "code",
      "source": [
        "class Person:\n",
        "    def __init__(self, name, age):\n",
        "        self.name = name\n",
        "        self.age = age\n",
        "\n",
        "class Employee:\n",
        "    def __init__(self, department, salary):\n",
        "        self.department = department\n",
        "        self.salary = salary\n",
        "\n",
        "class Manager(Person, Employee):\n",
        "    def __init__(self, name, age, department, salary):\n",
        "        Person.__init__(self, name, age)\n",
        "        Employee.__init__(self, department, salary)\n",
        "\n",
        "manager = Manager(name=\"Alisa\", age=28, department=\"IT\", salary=40000)\n",
        "\n",
        "print(f\"Manager Name: {manager.name}\")\n",
        "print(f\"Manager Age: {manager.age}\")\n",
        "print(f\"Manager Department: {manager.department}\")\n",
        "print(f\"Manager Salary: ${manager.salary}\")\n",
        "print(\"Method Resolution Order (MRO):\", Manager.mro())"
      ],
      "metadata": {
        "id": "R49grKlWNPeN",
        "colab": {
          "base_uri": "https://localhost:8080/"
        },
        "outputId": "1a4dae9b-0f4a-4ad0-94d3-1ca508c192c0"
      },
      "execution_count": 96,
      "outputs": [
        {
          "output_type": "stream",
          "name": "stdout",
          "text": [
            "Manager Name: Alisa\n",
            "Manager Age: 28\n",
            "Manager Department: IT\n",
            "Manager Salary: $40000\n",
            "Method Resolution Order (MRO): [<class '__main__.Manager'>, <class '__main__.Person'>, <class '__main__.Employee'>, <class 'object'>]\n"
          ]
        }
      ]
    },
    {
      "cell_type": "markdown",
      "source": [
        "# II. Iterator"
      ],
      "metadata": {
        "id": "dIJyUiNBFG8G"
      }
    },
    {
      "cell_type": "markdown",
      "source": [
        "11. (4б). Визначте рядок(str) з 4ма різними за значенням символами. Створіть ітератор на основі цього рядка. Викличте 5 разів функцію next на ітераторі, 4ри перших з них огорніть у ф-цію print()."
      ],
      "metadata": {
        "id": "13vsm0NyKIzL"
      }
    },
    {
      "cell_type": "code",
      "source": [
        "my_string = \"1234\"\n",
        "my_iterator = iter(my_string)\n",
        "for i in range(5):\n",
        "    try:\n",
        "        current_char = next(my_iterator)\n",
        "        print(current_char)\n",
        "    except StopIteration:\n",
        "        break"
      ],
      "metadata": {
        "id": "81ntabAkKuz-",
        "colab": {
          "base_uri": "https://localhost:8080/"
        },
        "outputId": "65d42deb-917d-462d-e148-6f5574f63ffb"
      },
      "execution_count": 97,
      "outputs": [
        {
          "output_type": "stream",
          "name": "stdout",
          "text": [
            "1\n",
            "2\n",
            "3\n",
            "4\n"
          ]
        }
      ]
    },
    {
      "cell_type": "markdown",
      "source": [
        "А що якщо викликати цю ж функцію на рядку?"
      ],
      "metadata": {
        "id": "aekWHGXOLRsO"
      }
    },
    {
      "cell_type": "code",
      "source": [
        "my_string = \"1234\"\n",
        "try:\n",
        "    current_char = next(my_string)\n",
        "    print(current_char)\n",
        "except TypeError as TypeError:\n",
        "    print(f\"Помилка: {TypeError}\")"
      ],
      "metadata": {
        "id": "mxATGsErLV1i",
        "colab": {
          "base_uri": "https://localhost:8080/"
        },
        "outputId": "02fe8fae-f43f-48aa-925f-178fae86dcb3"
      },
      "execution_count": 98,
      "outputs": [
        {
          "output_type": "stream",
          "name": "stdout",
          "text": [
            "Помилка: 'str' object is not an iterator\n"
          ]
        }
      ]
    },
    {
      "cell_type": "markdown",
      "source": [
        " 12. (5б). Опишіть своїми словами в одному реченні, як ви розумієте різницю між ітерабельними обʼєктами та ітераторами (можна на прикладі)."
      ],
      "metadata": {
        "id": "XwtMEopwJ4pH"
      }
    },
    {
      "cell_type": "markdown",
      "source": [
        "\"my_iterator = iter(my_list)\" - у цьому прикладі \"my_list\" - це ітерабельний об'єкт, а \"my_iterator\" - це ітератор, але загалом, різниця полягає в тому що ітерабельні об'єкти можна перебирати за допомогою циклу, а прикладами слугують списки, кортежі, словники, тощо, в той час як ітератори - це об'єкти, які зберігають стан і дозволяють послідовно отримувати елементи з ітерабельного об'єкта."
      ],
      "metadata": {
        "id": "-sHrODc3KFn8"
      }
    },
    {
      "cell_type": "markdown",
      "source": [
        "13. (11б). Створіть клас, що має визначений Iterator Protocol та при кожному виклику next повертає літери англійської абетки, поки вони не вичерпаються."
      ],
      "metadata": {
        "id": "E9qJWmNbK8Gl"
      }
    },
    {
      "cell_type": "code",
      "source": [
        "class Alphabet:\n",
        "    def __init__(self):\n",
        "        self.current_char = ord('a')\n",
        "\n",
        "    def __iter__(self):\n",
        "        return self\n",
        "\n",
        "    def __next__(self):\n",
        "        if self.current_char <= ord('z'):\n",
        "            char = chr(self.current_char)\n",
        "            self.current_char += 1\n",
        "            return char\n",
        "        else:\n",
        "            raise StopIteration\n",
        "\n",
        "alphabet = Alphabet()\n",
        "\n",
        "for _ in range(26):\n",
        "    print(next(alphabet))"
      ],
      "metadata": {
        "id": "cqx-g_RsLo6I",
        "colab": {
          "base_uri": "https://localhost:8080/"
        },
        "outputId": "71e0aa31-1888-40a3-d282-019c13e8bd58"
      },
      "execution_count": 99,
      "outputs": [
        {
          "output_type": "stream",
          "name": "stdout",
          "text": [
            "a\n",
            "b\n",
            "c\n",
            "d\n",
            "e\n",
            "f\n",
            "g\n",
            "h\n",
            "i\n",
            "j\n",
            "k\n",
            "l\n",
            "m\n",
            "n\n",
            "o\n",
            "p\n",
            "q\n",
            "r\n",
            "s\n",
            "t\n",
            "u\n",
            "v\n",
            "w\n",
            "x\n",
            "y\n",
            "z\n"
          ]
        }
      ]
    },
    {
      "cell_type": "markdown",
      "source": [
        "# Вітаю! Ви велика(ий) молодець, що впоралась(вся). Похваліть себе та побалуйте чимось приємним. Я Вами пишаюся."
      ],
      "metadata": {
        "id": "Z3E3S_s1Fv7-"
      }
    }
  ]
}